{
 "cells": [
  {
   "cell_type": "markdown",
   "metadata": {},
   "source": [
    "#### 1. Разбить число на цифры, не используя строки"
   ]
  },
  {
   "cell_type": "code",
   "execution_count": null,
   "metadata": {},
   "outputs": [],
   "source": [
    "def split_n(some_number):\n",
    "    return list(str(some_number))\n",
    "\n",
    "some_number = 4056\n",
    "\n",
    "digits = list(map(int, str(some_number)))\n",
    "print(digits)"
   ]
  },
  {
   "cell_type": "code",
   "execution_count": 12,
   "metadata": {},
   "outputs": [
    {
     "name": "stdout",
     "output_type": "stream",
     "text": [
      "[4, 0, 5, 6]\n"
     ]
    }
   ],
   "source": [
    "digits = [int(d) for d in str(some_number)]\n",
    "print(digits)"
   ]
  },
  {
   "cell_type": "code",
   "execution_count": 11,
   "metadata": {},
   "outputs": [
    {
     "name": "stdout",
     "output_type": "stream",
     "text": [
      "<generator object <genexpr> at 0x00000166C4D26E58>\n"
     ]
    }
   ],
   "source": [
    "digits = (int(d) for d in str(some_number))\n",
    "print(digits)\n",
    "\n",
    "# генератор не знает своей длины и его нельзя проверить на булевость - он всегда тру т.к. он непустой объект"
   ]
  },
  {
   "cell_type": "markdown",
   "metadata": {},
   "source": [
    "#### 2. Дано число посчитать количество четных и нечетных"
   ]
  },
  {
   "cell_type": "code",
   "execution_count": 23,
   "metadata": {
    "scrolled": true
   },
   "outputs": [
    {
     "name": "stdout",
     "output_type": "stream",
     "text": [
      "2 3\n"
     ]
    }
   ],
   "source": [
    "def count_odds_events(some_number):\n",
    "    pass\n",
    "\n",
    "some_number = 23744\n",
    "\n",
    "digits = [i % 2 for i in map(int, str(some_number))]\n",
    "\n",
    "odds = digits.count(1)\n",
    "evens = digits.count(0)\n",
    "\n",
    "print(odds,evens)\n",
    "\n",
    "# если делать через увеличение каунтера, будет быстрее, тк не надо будет делать count по всему массиву (долго, если он длинный)"
   ]
  },
  {
   "cell_type": "markdown",
   "metadata": {},
   "source": [
    "#### 3. Развернуть список"
   ]
  },
  {
   "cell_type": "code",
   "execution_count": 46,
   "metadata": {},
   "outputs": [
    {
     "data": {
      "text/plain": [
       "(['3', '2', '1'], ['1', '2', '3'])"
      ]
     },
     "execution_count": 46,
     "metadata": {},
     "output_type": "execute_result"
    }
   ],
   "source": [
    "l = ['1','2','3']\n",
    "n = reversed(l)\n",
    "l.reverse()\n",
    "l, list(n)"
   ]
  },
  {
   "cell_type": "code",
   "execution_count": 54,
   "metadata": {},
   "outputs": [
    {
     "data": {
      "text/plain": [
       "['1', '2', '3']"
      ]
     },
     "execution_count": 54,
     "metadata": {},
     "output_type": "execute_result"
    }
   ],
   "source": [
    "l[::-1]"
   ]
  },
  {
   "cell_type": "code",
   "execution_count": 44,
   "metadata": {},
   "outputs": [
    {
     "data": {
      "text/plain": [
       "['1', '2', '3']"
      ]
     },
     "execution_count": 44,
     "metadata": {},
     "output_type": "execute_result"
    }
   ],
   "source": [
    "result_list = []\n",
    "\n",
    "for e in l:\n",
    "    result_list.insert(0, e)\n",
    "\n",
    "result_list"
   ]
  },
  {
   "cell_type": "markdown",
   "metadata": {},
   "source": [
    "#### 4. Даны два множества. Нужно вывести элементы первого, которые отсутствуют во втором"
   ]
  },
  {
   "cell_type": "code",
   "execution_count": 57,
   "metadata": {},
   "outputs": [
    {
     "data": {
      "text/plain": [
       "{1, 3}"
      ]
     },
     "execution_count": 57,
     "metadata": {},
     "output_type": "execute_result"
    }
   ],
   "source": [
    "l1 = [1,2,3]\n",
    "l2 = [2]\n",
    "\n",
    "set(l1).difference(set(l2))"
   ]
  },
  {
   "cell_type": "code",
   "execution_count": 68,
   "metadata": {
    "scrolled": true
   },
   "outputs": [
    {
     "data": {
      "text/plain": [
       "[1, 3]"
      ]
     },
     "execution_count": 68,
     "metadata": {},
     "output_type": "execute_result"
    }
   ],
   "source": [
    "only_first = set(l1) - (set(l2))\n",
    "[f for f in l1 if f in only_first]"
   ]
  },
  {
   "cell_type": "markdown",
   "metadata": {},
   "source": [
    "#### 5. Убрать дубликаты в списке"
   ]
  },
  {
   "cell_type": "code",
   "execution_count": 8,
   "metadata": {},
   "outputs": [
    {
     "data": {
      "text/plain": [
       "[1, 2, 3]"
      ]
     },
     "execution_count": 8,
     "metadata": {},
     "output_type": "execute_result"
    }
   ],
   "source": [
    "l = [1,2,3,1,2,2,2]\n",
    "list(set(l))"
   ]
  },
  {
   "cell_type": "code",
   "execution_count": 6,
   "metadata": {},
   "outputs": [
    {
     "data": {
      "text/plain": [
       "[1, 2, 3]"
      ]
     },
     "execution_count": 6,
     "metadata": {},
     "output_type": "execute_result"
    }
   ],
   "source": [
    "mylist = [1,2,3,1,2,2,2]\n",
    "newlist = []\n",
    "\n",
    "for i in mylist:\n",
    "    if i not in newlist:\n",
    "        newlist.append(i)\n",
    "        \n",
    "newlist"
   ]
  },
  {
   "cell_type": "markdown",
   "metadata": {},
   "source": [
    "#### 6. Подсчитать кол-во неуникальных элементов в списке/кортеже"
   ]
  },
  {
   "cell_type": "code",
   "execution_count": 16,
   "metadata": {},
   "outputs": [
    {
     "data": {
      "text/plain": [
       "2"
      ]
     },
     "execution_count": 16,
     "metadata": {},
     "output_type": "execute_result"
    }
   ],
   "source": [
    "mylist = [1,2,3,1,2,2,2]\n",
    "newlist = []\n",
    "newset = set()\n",
    "\n",
    "for i in mylist:\n",
    "    if i not in newlist:\n",
    "        newlist.append(i)\n",
    "    else:\n",
    "        newset.add(i)\n",
    "    \n",
    "len(newset)"
   ]
  },
  {
   "cell_type": "markdown",
   "metadata": {},
   "source": [
    "#### 7. Удалить из списка элементы, которые не удовлетворяют условию (без использования filter)"
   ]
  },
  {
   "cell_type": "code",
   "execution_count": 27,
   "metadata": {},
   "outputs": [
    {
     "data": {
      "text/plain": [
       "[1, '', 3, 4, 5, 6]"
      ]
     },
     "execution_count": 27,
     "metadata": {},
     "output_type": "execute_result"
    }
   ],
   "source": [
    "my_list = [1,2,'',2,2,2,3,4,5,6]\n",
    "\n",
    "def drop_by_condition(sample,condition):\n",
    "    while True:\n",
    "        try:\n",
    "            sample.remove(condition)\n",
    "        except ValueError:\n",
    "            break\n",
    "        \n",
    "drop_by_condition(my_list,2)\n",
    "my_list"
   ]
  },
  {
   "cell_type": "markdown",
   "metadata": {},
   "source": [
    "#### 8. Разбить строку на слова и подсчитать, сколько раз каждое слово встречается в тексте"
   ]
  },
  {
   "cell_type": "code",
   "execution_count": 1,
   "metadata": {},
   "outputs": [
    {
     "data": {
      "text/plain": [
       "{'Разбить': 1,\n",
       " 'строку': 2,\n",
       " 'на': 1,\n",
       " 'слова': 1,\n",
       " 'и': 1,\n",
       " 'подсчитать': 1,\n",
       " 'сколько': 2,\n",
       " ',': 1,\n",
       " 'раз': 1,\n",
       " 'каждое': 1,\n",
       " 'слово': 1,\n",
       " 'встречается': 1}"
      ]
     },
     "execution_count": 1,
     "metadata": {},
     "output_type": "execute_result"
    }
   ],
   "source": [
    "words = 'Разбить строку строку на слова и подсчитать сколько , сколько раз каждое слово встречается'.strip().split()\n",
    "\n",
    "d = dict.fromkeys(words, 0)\n",
    "for w in words:\n",
    "    d[w] += 1\n",
    "    \n",
    "d"
   ]
  },
  {
   "cell_type": "code",
   "execution_count": null,
   "metadata": {},
   "outputs": [],
   "source": [
    "from collections import Counter\n",
    "\n",
    "def count_words(some_text):\n",
    "    return Counter(some_text.strip().split())"
   ]
  },
  {
   "cell_type": "markdown",
   "metadata": {},
   "source": [
    "#### 9. Заменить несколько идущих пробельных символов в строке на один пробел"
   ]
  },
  {
   "cell_type": "code",
   "execution_count": 31,
   "metadata": {},
   "outputs": [
    {
     "data": {
      "text/plain": [
       "'несколько идущих пробельных символов в строке'"
      ]
     },
     "execution_count": 31,
     "metadata": {},
     "output_type": "execute_result"
    }
   ],
   "source": [
    "my_str = 'несколько  идущих пробельных    символов в строке'\n",
    "\n",
    "new_str = ' '.join(my_str.split())\n",
    "new_str"
   ]
  },
  {
   "cell_type": "markdown",
   "metadata": {},
   "source": [
    "#### 10. Дан список строк. Нужно оставить только те, в которых строки содержат заданную подстроку"
   ]
  },
  {
   "cell_type": "code",
   "execution_count": 38,
   "metadata": {},
   "outputs": [
    {
     "data": {
      "text/plain": [
       "['string 1', 'string 1q']"
      ]
     },
     "execution_count": 38,
     "metadata": {},
     "output_type": "execute_result"
    }
   ],
   "source": [
    "str_list = ['string 1','string 1q', 'string 21']\n",
    "my_str = 'string 1'\n",
    "\n",
    "def find_text_in_lines(lines,text):\n",
    "    new_list = []\n",
    "    for line in lines:\n",
    "        if text in line:\n",
    "            new_list.append(line)\n",
    "    return new_list\n",
    "\n",
    "clear_list = find_text_in_lines(str_list, my_str)\n",
    "clear_list\n"
   ]
  },
  {
   "cell_type": "markdown",
   "metadata": {},
   "source": [
    "#### 11. Дан список пар координат. Вывести те, которые заданы неверно (широта должна быть от -90.0 до 90.0, долгота – от -180.0 до 180.0 "
   ]
  },
  {
   "cell_type": "code",
   "execution_count": 50,
   "metadata": {},
   "outputs": [
    {
     "name": "stdout",
     "output_type": "stream",
     "text": [
      "[-91, 2]\n",
      "[10, 200]\n"
     ]
    }
   ],
   "source": [
    "coordinates = [[-91,2],[30,50],[10,200]]\n",
    "\n",
    "for pair in coordinates:\n",
    "    if not (-90 <= pair[0] <= 90 and -180 <= pair[1] <= 180):\n",
    "        print(pair)"
   ]
  },
  {
   "cell_type": "markdown",
   "metadata": {},
   "source": [
    "#### 12. Найти неверно закрывающуюся скобку в выражении\n",
    "() ((([]))}"
   ]
  },
  {
   "cell_type": "code",
   "execution_count": 79,
   "metadata": {},
   "outputs": [
    {
     "name": "stdout",
     "output_type": "stream",
     "text": [
      "(\n",
      "}\n"
     ]
    }
   ],
   "source": [
    "brackets = '() ((([]))}'\n",
    "\n",
    "for opening, closing in zip(\"[({\", \"])}\"):\n",
    "    if brackets.count(opening) != brackets.count(closing):\n",
    "        print(opening) if brackets.count(opening) > brackets.count(closing) else print(closing)"
   ]
  }
 ],
 "metadata": {
  "kernelspec": {
   "display_name": "Python 3",
   "language": "python",
   "name": "python3"
  },
  "language_info": {
   "codemirror_mode": {
    "name": "ipython",
    "version": 3
   },
   "file_extension": ".py",
   "mimetype": "text/x-python",
   "name": "python",
   "nbconvert_exporter": "python",
   "pygments_lexer": "ipython3",
   "version": "3.7.2"
  }
 },
 "nbformat": 4,
 "nbformat_minor": 2
}
